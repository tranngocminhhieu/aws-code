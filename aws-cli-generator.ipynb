{
 "cells": [
  {
   "cell_type": "code",
   "execution_count": 1,
   "id": "8a60fe58-dfac-437d-bd96-89f7780eec36",
   "metadata": {},
   "outputs": [],
   "source": [
    "import json\n",
    "import pandas as pd\n",
    "import pyperclip"
   ]
  },
  {
   "cell_type": "markdown",
   "id": "e3b2d6db-c2e2-41bb-b3e2-93cb6ac7b83f",
   "metadata": {},
   "source": [
    "## CLI get JSON data"
   ]
  },
  {
   "cell_type": "code",
   "execution_count": 2,
   "id": "349c1f0b-886b-41a5-aeea-902c7434bb05",
   "metadata": {},
   "outputs": [],
   "source": [
    "def get_json_list_functions(region, output_file='Downloads/aws_lambda_functions.json', copy=True):\n",
    "    _cli = f'aws lambda list-functions --region {region} --output json > {output_file}'\n",
    "    if copy:\n",
    "        pyperclip.copy(_cli)\n",
    "    return _cli"
   ]
  },
  {
   "cell_type": "code",
   "execution_count": 3,
   "id": "d6275bf1-1598-41c0-b076-0c33d2376c65",
   "metadata": {},
   "outputs": [],
   "source": [
    "def get_json_list_layers(region, output_file='Downloads/aws_lambda_layers.json', copy=True):\n",
    "    _cli = f'aws lambda list-layers --region {region} --output json > {output_file}'\n",
    "    if copy:\n",
    "        pyperclip.copy(_cli)\n",
    "    return _cli"
   ]
  },
  {
   "cell_type": "code",
   "execution_count": 4,
   "id": "85ae3a19-1f22-4e3d-9461-ab1bbe0a1d57",
   "metadata": {},
   "outputs": [],
   "source": [
    "def get_json_get_policy(function_name, output_file='Downloads/aws_lambda_policy.json', copy=True):\n",
    "    _cli = f'aws lambda get-policy --function-name {function_name} --output text > {output_file}'\n",
    "    if copy:\n",
    "        pyperclip.copy(_cli)\n",
    "    return _cli"
   ]
  },
  {
   "cell_type": "code",
   "execution_count": 5,
   "id": "6d741762-cfc7-49cc-b5d8-1c04f4ce0fc1",
   "metadata": {},
   "outputs": [
    {
     "data": {
      "text/plain": [
       "'aws lambda list-functions --region ap-east-1 --output json > Downloads/aws_lambda_functions.json'"
      ]
     },
     "execution_count": 5,
     "metadata": {},
     "output_type": "execute_result"
    }
   ],
   "source": [
    "get_json_list_functions('ap-east-1')"
   ]
  },
  {
   "cell_type": "markdown",
   "id": "e308774e-651e-46f1-a8af-d79238914d57",
   "metadata": {},
   "source": [
    "## Load JSON data"
   ]
  },
  {
   "cell_type": "code",
   "execution_count": 6,
   "id": "af7da988-8f7d-4ce1-b86e-e1dafbd5df64",
   "metadata": {},
   "outputs": [],
   "source": [
    "def frame_policy(json_file):\n",
    "    with open(json_file) as f:\n",
    "        _full_text = f.read()\n",
    "        _json_text = text.split('\\t')[0]\n",
    "        _data = json.loads(_json_text)['Statement']\n",
    "    \n",
    "    for i in _data:\n",
    "        i['LogGroup'] = i['Condition']['ArnLike']['AWS:SourceArn']\n",
    "        i['FunctionName'] = i['Condition']['ArnLike']['AWS:SourceArn'].split('/')[-1].split(':')[0]\n",
    "    _df = pd.DataFrame(_data)\n",
    "    return _df"
   ]
  },
  {
   "cell_type": "code",
   "execution_count": 7,
   "id": "c8dd525c-ceb5-425e-b2de-8c9d1c9ebc1a",
   "metadata": {},
   "outputs": [],
   "source": [
    "def frame_functions(json_file):\n",
    "    with open(json_file) as f:\n",
    "        _data = json.load(f)['Functions']\n",
    "    for function in _data:\n",
    "        try:\n",
    "            function['Layers'] = \" \".join([layer['Arn'] for layer in function['Layers']])\n",
    "        except:\n",
    "            pass\n",
    "    _df = pd.DataFrame(_data)\n",
    "    return _df"
   ]
  },
  {
   "cell_type": "code",
   "execution_count": 8,
   "id": "46b685f6-eee3-4885-a5c4-75b3c1188842",
   "metadata": {},
   "outputs": [],
   "source": [
    "def dict_layer_latest_arn(json_file):\n",
    "    with open(json_file) as f:\n",
    "        _data = json.load(f)['Layers']\n",
    "        \n",
    "    _layer_latest_arn = {}\n",
    "    for layer in _data:\n",
    "        _name = layer['LayerName']\n",
    "        _arn = layer['LatestMatchingVersion']['LayerVersionArn']\n",
    "        _layer_latest_arn[_name] = _arn\n",
    "        \n",
    "    return _layer_latest_arn"
   ]
  },
  {
   "cell_type": "markdown",
   "id": "b9e30556-32f6-4887-a1a7-8bcd19846e7d",
   "metadata": {},
   "source": [
    "## CLI update function configuration"
   ]
  },
  {
   "cell_type": "code",
   "execution_count": 9,
   "id": "2e20091d-e988-4460-aebd-94ed5ba60f2b",
   "metadata": {},
   "outputs": [],
   "source": [
    "def cli_update_memory_size(function_name, memory_size=128, log_file='Downloads/aws_log.txt', copy=True):\n",
    "    _cli = f'aws lambda update-function-configuration --function-name {function_name} --memory-size {memory_size} >> {log_file}'\n",
    "    if copy:\n",
    "        pyperclip.copy(_cli)\n",
    "    return _cli"
   ]
  },
  {
   "cell_type": "code",
   "execution_count": 10,
   "id": "e10ec10b-0531-4279-a8f0-a7dbea137242",
   "metadata": {},
   "outputs": [],
   "source": [
    "def cli_update_ephemeral_storage(function_name, size=512, log_file='Downloads/aws_log.txt', copy=True):\n",
    "    _cli = f'aws lambda update-function-configuration --function-name {function_name} --ephemeral-storage Size={size} >> {log_file}'\n",
    "    if copy:\n",
    "        pyperclip.copy(_cli)\n",
    "    return _cli"
   ]
  },
  {
   "cell_type": "code",
   "execution_count": 11,
   "id": "1393cd21-8d26-40d7-a31a-5d4c1a0a391e",
   "metadata": {},
   "outputs": [],
   "source": [
    "def cli_update_layers(function_name, layers_arn, log_file='Downloads/aws_log.txt', copy=True):\n",
    "    _cli = f'aws lambda update-function-configuration --function-name {function_name} --layers {layers_arn} >> {log_file}'\n",
    "    if copy:\n",
    "        pyperclip.copy(_cli)\n",
    "    return _cli"
   ]
  },
  {
   "cell_type": "markdown",
   "id": "fb5f68d1-d53c-4174-96a2-8f133bb77e3a",
   "metadata": {},
   "source": [
    "## CLI bulk update functions"
   ]
  },
  {
   "cell_type": "markdown",
   "id": "984faf32-2ce6-467a-8bfb-8e043c5e32ae",
   "metadata": {},
   "source": [
    "### Bulk replace layers"
   ]
  },
  {
   "cell_type": "code",
   "execution_count": 12,
   "id": "4a9216a9-c502-447c-9ea4-1c4e1e937b61",
   "metadata": {},
   "outputs": [],
   "source": [
    "def replace_layer(layers, old_layer_name, new_layer_arn):\n",
    "    _layers = layers.split(' ')\n",
    "    _new_layers = ' '.join([new_layer_arn if old_layer_name == layer.split(':')[-2] else layer for layer in _layers])\n",
    "    return _new_layers"
   ]
  },
  {
   "cell_type": "code",
   "execution_count": 13,
   "id": "addfa926-0a77-47a2-ab49-9bb2f4409ff9",
   "metadata": {},
   "outputs": [],
   "source": [
    "def bulk_replace_layers(functions_json_file, replacements_dict, copy=True):\n",
    "    _df = frame_functions(functions_json_file)\n",
    "    _df = _df[~pd.isna(_df.Layers)]\n",
    "    \n",
    "    for key in replacements_dict:\n",
    "        old_layer_name = key\n",
    "        new_layer_arn = replacements[key]\n",
    "        _df.Layers = _df.apply(lambda x: replace_layer(x.Layers, old_layer_name, new_layer_arn), axis=1)\n",
    "    \n",
    "    _df['cli'] = _df.apply(lambda x: cli_update_layers(x.FunctionName, x.Layers), axis=1)\n",
    "    \n",
    "    _cli = ';'.join(_df['cli'].values.tolist())\n",
    "    \n",
    "    if copy:\n",
    "        pyperclip.copy(_cli)\n",
    "\n",
    "    return _cli"
   ]
  },
  {
   "cell_type": "code",
   "execution_count": 14,
   "id": "223c1cb0-a19a-44ef-bf65-ddfbe3d766b1",
   "metadata": {},
   "outputs": [
    {
     "data": {
      "text/plain": [
       "{'aws-data-wrangler': 'arn:aws:lambda:ap-east-1:238911357348:layer:aws-data-wrangler:1',\n",
       " 'gspread-plus': 'arn:aws:lambda:ap-east-1:238911357348:layer:gspread-plus:2',\n",
       " 'httplib2': 'arn:aws:lambda:ap-east-1:238911357348:layer:httplib2:1',\n",
       " 'kam-credentials': 'arn:aws:lambda:ap-east-1:238911357348:layer:kam-credentials:4',\n",
       " 'pandas_numpy_cp39': 'arn:aws:lambda:ap-east-1:238911357348:layer:pandas_numpy_cp39:1',\n",
       " 'pydrive': 'arn:aws:lambda:ap-east-1:238911357348:layer:pydrive:1',\n",
       " 'tenacity': 'arn:aws:lambda:ap-east-1:238911357348:layer:tenacity:1'}"
      ]
     },
     "execution_count": 14,
     "metadata": {},
     "output_type": "execute_result"
    }
   ],
   "source": [
    "layer_latest_arn = dict_layer_latest_arn('aws_lambda_layers.json')\n",
    "layer_latest_arn"
   ]
  },
  {
   "cell_type": "code",
   "execution_count": 15,
   "id": "7c7a2349-0e70-481f-b8fa-0fc9f2ab3beb",
   "metadata": {},
   "outputs": [],
   "source": [
    "replacements = {\n",
    "    'kam-credentials': layer_latest_arn['kam-credentials'],\n",
    "    'aws-data-wrangler': layer_latest_arn['pandas_numpy_cp39'],\n",
    "    'gspread': layer_latest_arn['gspread-plus'],\n",
    "    'gspread-plus': layer_latest_arn['gspread-plus']\n",
    "}"
   ]
  },
  {
   "cell_type": "code",
   "execution_count": 16,
   "id": "c5a208e1-5146-4739-bef2-4f43af25c3a9",
   "metadata": {},
   "outputs": [],
   "source": [
    "cli = bulk_replace_layers('aws_lambda_functions.json', replacements)"
   ]
  },
  {
   "cell_type": "markdown",
   "id": "20f77988-c0bb-42b3-8fae-d64b7a6be990",
   "metadata": {},
   "source": [
    "### Bulk update sample"
   ]
  },
  {
   "cell_type": "code",
   "execution_count": 17,
   "id": "a17387ba-caaa-4aad-8db9-c919f5559a14",
   "metadata": {},
   "outputs": [],
   "source": [
    "def bulk_update_functions(function_names_list, cli_function, value=None, values_list=None, copy=True):\n",
    "    _cli_list = []\n",
    "    if (value != None) and (values_list == None):\n",
    "        for function_name in function_names_list:\n",
    "            _cli_list.append(cli_function(function_name, value))\n",
    "    elif (value == None) and (values_list != None):\n",
    "        for function_name, value in zip(function_names_list, values_list):\n",
    "            _cli_list.append(cli_function(function_name, value))\n",
    "    else:\n",
    "        raise ValueError('Please input value or value_list only')\n",
    "            \n",
    "    _cli = ';'.join(_cli_list)\n",
    "    \n",
    "    if copy:\n",
    "        pyperclip.copy(_cli)\n",
    "\n",
    "    return _cli"
   ]
  },
  {
   "cell_type": "code",
   "execution_count": 18,
   "id": "f858b110-c3ea-4a27-ac59-6e75c26a6578",
   "metadata": {},
   "outputs": [
    {
     "data": {
      "text/plain": [
       "'aws lambda update-function-configuration --function-name abc --memory-size 10 >> Downloads/aws_log.txt;aws lambda update-function-configuration --function-name def --memory-size 5 >> Downloads/aws_log.txt'"
      ]
     },
     "execution_count": 18,
     "metadata": {},
     "output_type": "execute_result"
    }
   ],
   "source": [
    "bulk_update_functions(['abc', 'def'], cli_update_memory_size, values_list=[10, 5])"
   ]
  }
 ],
 "metadata": {
  "kernelspec": {
   "display_name": "Python 3 (ipykernel)",
   "language": "python",
   "name": "python3"
  },
  "language_info": {
   "codemirror_mode": {
    "name": "ipython",
    "version": 3
   },
   "file_extension": ".py",
   "mimetype": "text/x-python",
   "name": "python",
   "nbconvert_exporter": "python",
   "pygments_lexer": "ipython3",
   "version": "3.9.13"
  }
 },
 "nbformat": 4,
 "nbformat_minor": 5
}
