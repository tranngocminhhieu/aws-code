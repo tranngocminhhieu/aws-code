{
 "cells": [
  {
   "cell_type": "code",
   "execution_count": 1,
   "id": "16fd0dac-70ec-4b2b-9455-bcdcf7de33b2",
   "metadata": {},
   "outputs": [],
   "source": [
    "import pandas as pd\n",
    "import numpy as np\n",
    "import json\n",
    "import pyperclip"
   ]
  },
  {
   "cell_type": "code",
   "execution_count": 2,
   "id": "1fcfbff6-1fa6-4bc0-b373-9cce587d7679",
   "metadata": {},
   "outputs": [],
   "source": [
    "def replace_layer(layers, old_layer_name, new_layer_arn):\n",
    "    layers = layers.split(' ')\n",
    "    new_layers = ' '.join([new_layer_arn if old_layer_name == layer.split(':')[-2] else layer for layer in layers])\n",
    "    return new_layers"
   ]
  },
  {
   "cell_type": "code",
   "execution_count": 3,
   "id": "7ef64f4d-f8e4-4692-8f26-adb6c2573b6c",
   "metadata": {},
   "outputs": [],
   "source": [
    "def generate_cmd(function_name, layers):\n",
    "    return f'aws lambda update-function-configuration --function-name {function_name} --layers {layers} >> Downloads/aws_log.txt'"
   ]
  },
  {
   "cell_type": "code",
   "execution_count": 4,
   "id": "a1ea7078-6b7f-475d-8056-d6d8be6ca1d8",
   "metadata": {},
   "outputs": [],
   "source": [
    "def cli_update_layers(functions_json_file, replacements, copy_to_clipboard=True):\n",
    "    with open(functions_json_file) as json_file:\n",
    "        functions_data = json.load(json_file)['Functions']\n",
    "        \n",
    "    for function in functions_data:\n",
    "        try:\n",
    "            function['Layers'] = \" \".join([layer['Arn'] for layer in function['Layers']])\n",
    "        except:\n",
    "            pass\n",
    "    \n",
    "    _df = pd.DataFrame(functions_data)\n",
    "    _df = _df[~pd.isna(_df.Layers)]\n",
    "    \n",
    "    for key in replacements:\n",
    "        old_layer_name = key\n",
    "        new_layer_arn = replacements[key]\n",
    "        _df.Layers = _df.apply(lambda x: replace_layer(x.Layers, old_layer_name, new_layer_arn), axis=1)\n",
    "    \n",
    "    _df['cmd'] = _df.apply(lambda x: generate_cmd(x.FunctionName, x.Layers), axis=1)\n",
    "    \n",
    "    cmd = ';'.join(_df['cmd'].values.tolist())\n",
    "    \n",
    "    if copy_to_clipboard:\n",
    "        pyperclip.copy(cmd)\n",
    "\n",
    "    return cmd"
   ]
  },
  {
   "cell_type": "code",
   "execution_count": 5,
   "id": "c94104d3-5cf6-4e85-965f-46978217ab0d",
   "metadata": {},
   "outputs": [],
   "source": [
    "def load_layer_latest_arn(layers_json_file):\n",
    "    with open(layers_json_file) as json_file:\n",
    "        layers_data = json.load(json_file)['Layers']\n",
    "        \n",
    "    layer_latest_arn = {}\n",
    "    \n",
    "    for layer in layers_data:\n",
    "        name = layer['LayerName']\n",
    "        arn = layer['LatestMatchingVersion']['LayerVersionArn']\n",
    "        layer_latest_arn[name] = arn\n",
    "        \n",
    "    return layer_latest_arn"
   ]
  },
  {
   "cell_type": "code",
   "execution_count": 6,
   "id": "1f0a0e28-8d33-4192-87ed-f542a71fa09d",
   "metadata": {},
   "outputs": [],
   "source": [
    "# aws lambda list-functions --region ap-east-1 --output json > Downloads/aws_lambda_functions.json\n",
    "functions_file = 'aws_lambda_functions.json'"
   ]
  },
  {
   "cell_type": "code",
   "execution_count": 7,
   "id": "67e677dc-427c-4bb0-9d2f-9de6528ebfcf",
   "metadata": {},
   "outputs": [],
   "source": [
    "# aws lambda list-layers --region ap-east-1 --output json > Downloads/aws_lambda_layers.json\n",
    "layers_file = 'aws_lambda_layers.json'\n",
    "layer_latest_arn = load_layer_latest_arn(layers_file)"
   ]
  },
  {
   "cell_type": "code",
   "execution_count": 8,
   "id": "4d416608-9b24-4f52-b320-4b71a03e5123",
   "metadata": {},
   "outputs": [
    {
     "data": {
      "text/plain": [
       "{'aws-data-wrangler': 'arn:aws:lambda:ap-east-1:238911357348:layer:aws-data-wrangler:1',\n",
       " 'gspread-plus': 'arn:aws:lambda:ap-east-1:238911357348:layer:gspread-plus:2',\n",
       " 'httplib2': 'arn:aws:lambda:ap-east-1:238911357348:layer:httplib2:1',\n",
       " 'kam-credentials': 'arn:aws:lambda:ap-east-1:238911357348:layer:kam-credentials:4',\n",
       " 'pandas_numpy_cp39': 'arn:aws:lambda:ap-east-1:238911357348:layer:pandas_numpy_cp39:1',\n",
       " 'pydrive': 'arn:aws:lambda:ap-east-1:238911357348:layer:pydrive:1',\n",
       " 'tenacity': 'arn:aws:lambda:ap-east-1:238911357348:layer:tenacity:1'}"
      ]
     },
     "execution_count": 8,
     "metadata": {},
     "output_type": "execute_result"
    }
   ],
   "source": [
    "layer_latest_arn"
   ]
  },
  {
   "cell_type": "code",
   "execution_count": 9,
   "id": "da28eb21-113b-4587-8b59-fcb8565c46d6",
   "metadata": {},
   "outputs": [],
   "source": [
    "replacements = {\n",
    "    'kam-credentials': layer_latest_arn['kam-credentials'],\n",
    "    'aws-data-wrangler': layer_latest_arn['pandas_numpy_cp39'],\n",
    "    'gspread': layer_latest_arn['gspread-plus'],\n",
    "    'gspread-plus': layer_latest_arn['gspread-plus']\n",
    "}"
   ]
  },
  {
   "cell_type": "code",
   "execution_count": 10,
   "id": "f546c6ef-7749-4d5a-9c66-5c26162cb91a",
   "metadata": {},
   "outputs": [],
   "source": [
    "cmd = cli_update_layers(functions_file, replacements)"
   ]
  }
 ],
 "metadata": {
  "kernelspec": {
   "display_name": "Python 3 (ipykernel)",
   "language": "python",
   "name": "python3"
  },
  "language_info": {
   "codemirror_mode": {
    "name": "ipython",
    "version": 3
   },
   "file_extension": ".py",
   "mimetype": "text/x-python",
   "name": "python",
   "nbconvert_exporter": "python",
   "pygments_lexer": "ipython3",
   "version": "3.9.13"
  }
 },
 "nbformat": 4,
 "nbformat_minor": 5
}
